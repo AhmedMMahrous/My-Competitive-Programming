{
 "cells": [
  {
   "cell_type": "code",
   "execution_count": null,
   "metadata": {},
   "outputs": [],
   "source": [
    "x,y=map(float,input().split())\n",
    "if y==0 and x==0:print(\"Origem\")\n",
    "elif x>0 and y>0:print(\"Q1\")\n",
    "elif x<0 and y>0:print(\"Q2\")\n",
    "elif x<0 and y<0:print(\"Q3\")\n",
    "elif x>0 and y<0:print(\"Q4\")\n",
    "elif x==0:print(\"Eixo Y\")\n",
    "elif y==0:print(\"Eixo X\")"
   ]
  }
 ],
 "metadata": {
  "kernelspec": {
   "display_name": "Python 3",
   "language": "python",
   "name": "python3"
  },
  "language_info": {
   "codemirror_mode": {
    "name": "ipython",
    "version": 3
   },
   "file_extension": ".py",
   "mimetype": "text/x-python",
   "name": "python",
   "nbconvert_exporter": "python",
   "pygments_lexer": "ipython3",
   "version": "3.8.5"
  }
 },
 "nbformat": 4,
 "nbformat_minor": 4
}
