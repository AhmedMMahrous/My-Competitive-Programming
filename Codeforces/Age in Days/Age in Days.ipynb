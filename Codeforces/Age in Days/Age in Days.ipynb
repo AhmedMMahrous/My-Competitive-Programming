{
 "cells": [
  {
   "cell_type": "code",
   "execution_count": null,
   "metadata": {},
   "outputs": [],
   "source": [
    "import math\n",
    "a = int(input())\n",
    "year = a/365\n",
    "a = a %365\n",
    "month = a / 30\n",
    "a = a % 30\n",
    "day = a \n",
    "print(math.floor(year), \"years\")\n",
    "print(math.floor(month),\"months\")\n",
    "print(day,\"days\")"
   ]
  }
 ],
 "metadata": {
  "kernelspec": {
   "display_name": "Python 3",
   "language": "python",
   "name": "python3"
  },
  "language_info": {
   "codemirror_mode": {
    "name": "ipython",
    "version": 3
   },
   "file_extension": ".py",
   "mimetype": "text/x-python",
   "name": "python",
   "nbconvert_exporter": "python",
   "pygments_lexer": "ipython3",
   "version": "3.8.5"
  }
 },
 "nbformat": 4,
 "nbformat_minor": 4
}
