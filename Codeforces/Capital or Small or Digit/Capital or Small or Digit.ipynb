{
 "cells": [
  {
   "cell_type": "code",
   "execution_count": null,
   "metadata": {},
   "outputs": [],
   "source": [
    "user_input = input()\n",
    " \n",
    "if user_input.isdigit():\n",
    "    print(\"IS DIGIT\")\n",
    "    \n",
    "if type(user_input) is str:\n",
    "    if user_input.isupper():\n",
    "        print(\"ALPHA\\nIS CAPITAL\")\n",
    "    elif user_input.islower():\n",
    "        print(\"ALPHA\\nIS SMALL\")"
   ]
  }
 ],
 "metadata": {
  "kernelspec": {
   "display_name": "Python 3",
   "language": "python",
   "name": "python3"
  },
  "language_info": {
   "codemirror_mode": {
    "name": "ipython",
    "version": 3
   },
   "file_extension": ".py",
   "mimetype": "text/x-python",
   "name": "python",
   "nbconvert_exporter": "python",
   "pygments_lexer": "ipython3",
   "version": "3.8.5"
  }
 },
 "nbformat": 4,
 "nbformat_minor": 4
}
